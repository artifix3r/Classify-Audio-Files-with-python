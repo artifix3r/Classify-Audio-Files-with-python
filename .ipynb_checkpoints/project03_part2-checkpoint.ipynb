{
 "cells": [
  {
   "cell_type": "code",
   "execution_count": 2,
   "metadata": {},
   "outputs": [],
   "source": [
    "#Creating Dictionary for audio files\n",
    "categories = {\n",
    "    \n",
    "      \"1308162216750.wav\": {\n",
    "            \"category\": \"Extrasystole\",\n",
    "            \"framerate\": \"4000\",\n",
    "      },\n",
    "    \n",
    "      \"1308162935880.wav\": {\n",
    "            \"category\": \"extra heart sound\",\n",
    "            \"framerate\": \"4000\",\n",
    "      },\n",
    "    \n",
    "     \"201012172012.wav\": {\n",
    "            \"category\": \"artifact\",\n",
    "            \"framerate\": \"44100\",\n",
    "      },\n",
    "    \n",
    "       \"201012172010.wav\": {\n",
    "            \"category\": \"artifact\",\n",
    "            \"framerate\": \"44100\",\n",
    "      },\n",
    "      \"201101051105.wav\": {\n",
    "            \"category\": \"normal\",\n",
    "            \"framerate\": \"44100\",            \n",
    "      },\n",
    "    \n",
    "      \"201101070953.wav\": {\n",
    "            \"category\": \"extra heart sound\",\n",
    "            \"framerate\": \"44100 Hz\",            \n",
    "      },\n",
    "    \n",
    "      \"201101091153.wav\": {\n",
    "            \"category\": \"murmur\",\n",
    "            \"framerate\": \"44100 Hz\",\n",
    "      },\n",
    "    \n",
    "      \"201102052338.wav\": {\n",
    "            \"category\": \"artifact\",\n",
    "            \"framerate\": \"44100 Hz\",\n",
    "      },\n",
    "    \n",
    "      \"201102081321.wav\": {\n",
    "            \"category\": \"extra heart sound\",\n",
    "            \"framerate\": \"44100 Hz\",\n",
    "      },\n",
    "    \n",
    "      \"201102260502.wav\": {\n",
    "            \"category\": \"Extrasystole\",\n",
    "            \"framerate\": \"44100 Hz\",\n",
    "      },\n",
    "    \n",
    "      \"201103291548.wav\": {\n",
    "            \"cateogry\": \"unlabeled\",\n",
    "            \"framework\": \"44100 Hz\",\n",
    "      },\n",
    "    \n",
    "      \"201105040918.wav\": {\n",
    "            \"cateogry\": \"murmur\",\n",
    "            \"framerate\": \"44100 Hz\",\n",
    "      }\n",
    "}"
   ]
  },
  {
   "cell_type": "code",
   "execution_count": 5,
   "metadata": {},
   "outputs": [],
   "source": [
    "import json\n",
    "Finder = open(\"Fİnder.json\", \"w\")\n",
    "json.dump(categories, Finder, indent = 6)\n",
    "Finder.close()"
   ]
  },
  {
   "cell_type": "code",
   "execution_count": null,
   "metadata": {},
   "outputs": [],
   "source": []
  }
 ],
 "metadata": {
  "kernelspec": {
   "display_name": "Python 3",
   "language": "python",
   "name": "python3"
  },
  "language_info": {
   "codemirror_mode": {
    "name": "ipython",
    "version": 3
   },
   "file_extension": ".py",
   "mimetype": "text/x-python",
   "name": "python",
   "nbconvert_exporter": "python",
   "pygments_lexer": "ipython3",
   "version": "3.8.5"
  }
 },
 "nbformat": 4,
 "nbformat_minor": 4
}
